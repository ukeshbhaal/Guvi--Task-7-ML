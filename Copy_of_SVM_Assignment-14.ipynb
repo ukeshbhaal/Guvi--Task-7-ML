{
  "nbformat": 4,
  "nbformat_minor": 0,
  "metadata": {
    "colab": {
      "provenance": [],
      "include_colab_link": true
    },
    "kernelspec": {
      "name": "python3",
      "display_name": "Python 3"
    },
    "language_info": {
      "name": "python"
    }
  },
  "cells": [
    {
      "cell_type": "markdown",
      "metadata": {
        "id": "view-in-github",
        "colab_type": "text"
      },
      "source": [
        "<a href=\"https://colab.research.google.com/github/ukeshbhaal/Guvi--Task-7-ML/blob/main/Copy_of_SVM_Assignment-14.ipynb\" target=\"_parent\"><img src=\"https://colab.research.google.com/assets/colab-badge.svg\" alt=\"Open In Colab\"/></a>"
      ]
    },
    {
      "cell_type": "code",
      "metadata": {
        "id": "OTEpzVunhgga"
      },
      "source": [
        "#Social_Network_Ads.csv"
      ],
      "execution_count": null,
      "outputs": []
    },
    {
      "cell_type": "markdown",
      "metadata": {
        "id": "Qa5Bo_A9h3kB"
      },
      "source": [
        "**Import libraries**"
      ]
    },
    {
      "cell_type": "code",
      "metadata": {
        "id": "pFIDCPu9h1DO"
      },
      "source": [
        "import pandas as pd\n",
        "import numpy as np\n",
        "import matplotlib.pyplot as plt\n",
        "from sklearn import svm, datasets"
      ],
      "execution_count": null,
      "outputs": []
    },
    {
      "cell_type": "markdown",
      "metadata": {
        "id": "L9CQXJjkiKRq"
      },
      "source": [
        "**Importing the dataset**"
      ]
    },
    {
      "cell_type": "code",
      "metadata": {
        "id": "ZNiJnC7hh1HC"
      },
      "source": [
        "data=pd.read_csv(\"/content/Social_Network_Ads.csv\")"
      ],
      "execution_count": null,
      "outputs": []
    },
    {
      "cell_type": "code",
      "source": [
        "#Encoding - Gender\n",
        "from sklearn import preprocessing\n",
        "le = preprocessing.LabelEncoder()\n",
        "cols = ['Gender']\n",
        "# We can also Encode labels of multiple columns at once like - cols=['Gender','etc'] like that- but here\n",
        "data[cols] = data[cols].apply(le.fit_transform)\n",
        "\n",
        "data=data.drop(['User ID'], axis=1)\n",
        "data"
      ],
      "metadata": {
        "colab": {
          "base_uri": "https://localhost:8080/",
          "height": 423
        },
        "id": "o2LoWEQtNYGz",
        "outputId": "d8680faa-50c0-42ad-ebd6-3fb9143d3717"
      },
      "execution_count": null,
      "outputs": [
        {
          "output_type": "execute_result",
          "data": {
            "text/plain": [
              "     Gender  Age  EstimatedSalary  Purchased\n",
              "0         1   19            19000          0\n",
              "1         1   35            20000          0\n",
              "2         0   26            43000          0\n",
              "3         0   27            57000          0\n",
              "4         1   19            76000          0\n",
              "..      ...  ...              ...        ...\n",
              "395       0   46            41000          1\n",
              "396       1   51            23000          1\n",
              "397       0   50            20000          1\n",
              "398       1   36            33000          0\n",
              "399       0   49            36000          1\n",
              "\n",
              "[400 rows x 4 columns]"
            ],
            "text/html": [
              "\n",
              "  <div id=\"df-f72a820c-6173-458a-b5aa-55813918e832\">\n",
              "    <div class=\"colab-df-container\">\n",
              "      <div>\n",
              "<style scoped>\n",
              "    .dataframe tbody tr th:only-of-type {\n",
              "        vertical-align: middle;\n",
              "    }\n",
              "\n",
              "    .dataframe tbody tr th {\n",
              "        vertical-align: top;\n",
              "    }\n",
              "\n",
              "    .dataframe thead th {\n",
              "        text-align: right;\n",
              "    }\n",
              "</style>\n",
              "<table border=\"1\" class=\"dataframe\">\n",
              "  <thead>\n",
              "    <tr style=\"text-align: right;\">\n",
              "      <th></th>\n",
              "      <th>Gender</th>\n",
              "      <th>Age</th>\n",
              "      <th>EstimatedSalary</th>\n",
              "      <th>Purchased</th>\n",
              "    </tr>\n",
              "  </thead>\n",
              "  <tbody>\n",
              "    <tr>\n",
              "      <th>0</th>\n",
              "      <td>1</td>\n",
              "      <td>19</td>\n",
              "      <td>19000</td>\n",
              "      <td>0</td>\n",
              "    </tr>\n",
              "    <tr>\n",
              "      <th>1</th>\n",
              "      <td>1</td>\n",
              "      <td>35</td>\n",
              "      <td>20000</td>\n",
              "      <td>0</td>\n",
              "    </tr>\n",
              "    <tr>\n",
              "      <th>2</th>\n",
              "      <td>0</td>\n",
              "      <td>26</td>\n",
              "      <td>43000</td>\n",
              "      <td>0</td>\n",
              "    </tr>\n",
              "    <tr>\n",
              "      <th>3</th>\n",
              "      <td>0</td>\n",
              "      <td>27</td>\n",
              "      <td>57000</td>\n",
              "      <td>0</td>\n",
              "    </tr>\n",
              "    <tr>\n",
              "      <th>4</th>\n",
              "      <td>1</td>\n",
              "      <td>19</td>\n",
              "      <td>76000</td>\n",
              "      <td>0</td>\n",
              "    </tr>\n",
              "    <tr>\n",
              "      <th>...</th>\n",
              "      <td>...</td>\n",
              "      <td>...</td>\n",
              "      <td>...</td>\n",
              "      <td>...</td>\n",
              "    </tr>\n",
              "    <tr>\n",
              "      <th>395</th>\n",
              "      <td>0</td>\n",
              "      <td>46</td>\n",
              "      <td>41000</td>\n",
              "      <td>1</td>\n",
              "    </tr>\n",
              "    <tr>\n",
              "      <th>396</th>\n",
              "      <td>1</td>\n",
              "      <td>51</td>\n",
              "      <td>23000</td>\n",
              "      <td>1</td>\n",
              "    </tr>\n",
              "    <tr>\n",
              "      <th>397</th>\n",
              "      <td>0</td>\n",
              "      <td>50</td>\n",
              "      <td>20000</td>\n",
              "      <td>1</td>\n",
              "    </tr>\n",
              "    <tr>\n",
              "      <th>398</th>\n",
              "      <td>1</td>\n",
              "      <td>36</td>\n",
              "      <td>33000</td>\n",
              "      <td>0</td>\n",
              "    </tr>\n",
              "    <tr>\n",
              "      <th>399</th>\n",
              "      <td>0</td>\n",
              "      <td>49</td>\n",
              "      <td>36000</td>\n",
              "      <td>1</td>\n",
              "    </tr>\n",
              "  </tbody>\n",
              "</table>\n",
              "<p>400 rows × 4 columns</p>\n",
              "</div>\n",
              "      <button class=\"colab-df-convert\" onclick=\"convertToInteractive('df-f72a820c-6173-458a-b5aa-55813918e832')\"\n",
              "              title=\"Convert this dataframe to an interactive table.\"\n",
              "              style=\"display:none;\">\n",
              "        \n",
              "  <svg xmlns=\"http://www.w3.org/2000/svg\" height=\"24px\"viewBox=\"0 0 24 24\"\n",
              "       width=\"24px\">\n",
              "    <path d=\"M0 0h24v24H0V0z\" fill=\"none\"/>\n",
              "    <path d=\"M18.56 5.44l.94 2.06.94-2.06 2.06-.94-2.06-.94-.94-2.06-.94 2.06-2.06.94zm-11 1L8.5 8.5l.94-2.06 2.06-.94-2.06-.94L8.5 2.5l-.94 2.06-2.06.94zm10 10l.94 2.06.94-2.06 2.06-.94-2.06-.94-.94-2.06-.94 2.06-2.06.94z\"/><path d=\"M17.41 7.96l-1.37-1.37c-.4-.4-.92-.59-1.43-.59-.52 0-1.04.2-1.43.59L10.3 9.45l-7.72 7.72c-.78.78-.78 2.05 0 2.83L4 21.41c.39.39.9.59 1.41.59.51 0 1.02-.2 1.41-.59l7.78-7.78 2.81-2.81c.8-.78.8-2.07 0-2.86zM5.41 20L4 18.59l7.72-7.72 1.47 1.35L5.41 20z\"/>\n",
              "  </svg>\n",
              "      </button>\n",
              "      \n",
              "  <style>\n",
              "    .colab-df-container {\n",
              "      display:flex;\n",
              "      flex-wrap:wrap;\n",
              "      gap: 12px;\n",
              "    }\n",
              "\n",
              "    .colab-df-convert {\n",
              "      background-color: #E8F0FE;\n",
              "      border: none;\n",
              "      border-radius: 50%;\n",
              "      cursor: pointer;\n",
              "      display: none;\n",
              "      fill: #1967D2;\n",
              "      height: 32px;\n",
              "      padding: 0 0 0 0;\n",
              "      width: 32px;\n",
              "    }\n",
              "\n",
              "    .colab-df-convert:hover {\n",
              "      background-color: #E2EBFA;\n",
              "      box-shadow: 0px 1px 2px rgba(60, 64, 67, 0.3), 0px 1px 3px 1px rgba(60, 64, 67, 0.15);\n",
              "      fill: #174EA6;\n",
              "    }\n",
              "\n",
              "    [theme=dark] .colab-df-convert {\n",
              "      background-color: #3B4455;\n",
              "      fill: #D2E3FC;\n",
              "    }\n",
              "\n",
              "    [theme=dark] .colab-df-convert:hover {\n",
              "      background-color: #434B5C;\n",
              "      box-shadow: 0px 1px 3px 1px rgba(0, 0, 0, 0.15);\n",
              "      filter: drop-shadow(0px 1px 2px rgba(0, 0, 0, 0.3));\n",
              "      fill: #FFFFFF;\n",
              "    }\n",
              "  </style>\n",
              "\n",
              "      <script>\n",
              "        const buttonEl =\n",
              "          document.querySelector('#df-f72a820c-6173-458a-b5aa-55813918e832 button.colab-df-convert');\n",
              "        buttonEl.style.display =\n",
              "          google.colab.kernel.accessAllowed ? 'block' : 'none';\n",
              "\n",
              "        async function convertToInteractive(key) {\n",
              "          const element = document.querySelector('#df-f72a820c-6173-458a-b5aa-55813918e832');\n",
              "          const dataTable =\n",
              "            await google.colab.kernel.invokeFunction('convertToInteractive',\n",
              "                                                     [key], {});\n",
              "          if (!dataTable) return;\n",
              "\n",
              "          const docLinkHtml = 'Like what you see? Visit the ' +\n",
              "            '<a target=\"_blank\" href=https://colab.research.google.com/notebooks/data_table.ipynb>data table notebook</a>'\n",
              "            + ' to learn more about interactive tables.';\n",
              "          element.innerHTML = '';\n",
              "          dataTable['output_type'] = 'display_data';\n",
              "          await google.colab.output.renderOutput(dataTable, element);\n",
              "          const docLink = document.createElement('div');\n",
              "          docLink.innerHTML = docLinkHtml;\n",
              "          element.appendChild(docLink);\n",
              "        }\n",
              "      </script>\n",
              "    </div>\n",
              "  </div>\n",
              "  "
            ]
          },
          "metadata": {},
          "execution_count": 4
        }
      ]
    },
    {
      "cell_type": "markdown",
      "metadata": {
        "id": "GpelPvR4iSxv"
      },
      "source": [
        "**Splitting the dataset into the Training set and Test set**"
      ]
    },
    {
      "cell_type": "code",
      "metadata": {
        "id": "eROg-IDUh1JZ"
      },
      "source": [
        "x = data[[ \"Age\",\"EstimatedSalary\"]].values\n",
        "y = data['Purchased'].values\n",
        "from sklearn.model_selection import train_test_split\n",
        "x_train, x_test, y_train, y_test = train_test_split(x, y, test_size=0.3, random_state=2)\n",
        "#print(x,y)"
      ],
      "execution_count": null,
      "outputs": []
    },
    {
      "cell_type": "markdown",
      "metadata": {
        "id": "cwBqfX6WiZOx"
      },
      "source": [
        "**Feature Scaling**"
      ]
    },
    {
      "cell_type": "code",
      "metadata": {
        "id": "yCcfuhv_h1Lw",
        "colab": {
          "base_uri": "https://localhost:8080/"
        },
        "outputId": "4b776e72-bd65-4165-a684-3103933c8094"
      },
      "source": [
        "from sklearn.preprocessing import StandardScaler\n",
        "from sklearn.pipeline import Pipeline\n",
        "pipeline = Pipeline([   ('std_scalar', StandardScaler())])\n",
        "x_train = pipeline.fit_transform(x_train)\n",
        "x_test = pipeline.fit_transform(x_test)\n",
        "print(\"\\n X_train\\n\",x_train,\"\\n X_test\\n\",x_test)\n",
        "print(\"\\n Y_train\\n\",y_train,\"\\n Y_test\\n\",y_test)"
      ],
      "execution_count": null,
      "outputs": [
        {
          "output_type": "stream",
          "name": "stdout",
          "text": [
            "\n",
            " X_train\n",
            " [[ 0.02273414 -0.26389006]\n",
            " [ 0.79431698 -1.42026223]\n",
            " [-0.26660943 -0.38249233]\n",
            " [ 0.89076483  1.2779395 ]\n",
            " [ 0.3120777  -0.20458892]\n",
            " [-0.26660943 -0.59004631]\n",
            " [-0.26660943 -1.42026223]\n",
            " [ 1.46945196 -1.06445541]\n",
            " [-0.07371372  0.12156733]\n",
            " [-0.84529656 -0.67899802]\n",
            " [-0.07371372  0.00296506]\n",
            " [-0.26660943  0.09191676]\n",
            " [ 0.21562985 -0.3231912 ]\n",
            " [-0.26660943  0.26982017]\n",
            " [ 0.11918199  0.03261563]\n",
            " [ 1.95169124  2.19710712]\n",
            " [-1.03819227 -1.47956337]\n",
            " [ 0.3120777   0.29947074]\n",
            " [ 2.04813909 -1.21270825]\n",
            " [-1.13464012 -0.53074518]\n",
            " [ 0.21562985  0.1512179 ]\n",
            " [-0.26660943 -0.94585313]\n",
            " [-0.65240085  0.03261563]\n",
            " [ 0.21562985  0.06226619]\n",
            " [ 0.40852556 -0.14528779]\n",
            " [-1.13464012 -1.12375655]\n",
            " [-0.07371372  2.25640826]\n",
            " [ 1.08366054 -0.14528779]\n",
            " [ 0.89076483  1.04073495]\n",
            " [-0.07371372  0.26982017]\n",
            " [-0.55595299 -1.5388645 ]\n",
            " [-1.13464012 -1.03480484]\n",
            " [-0.7488487   1.36689121]\n",
            " [ 1.08366054  0.56632586]\n",
            " [ 1.56589982 -1.30165996]\n",
            " [ 0.69786912 -1.42026223]\n",
            " [-0.65240085 -1.06445541]\n",
            " [ 1.1801084   0.53667529]\n",
            " [-0.26660943 -1.47956337]\n",
            " [-1.6168794   0.53667529]\n",
            " [-1.03819227 -1.15340711]\n",
            " [-0.07371372  0.03261563]\n",
            " [ 0.3120777   0.06226619]\n",
            " [ 0.89076483 -1.39061166]\n",
            " [-1.03819227 -0.35284176]\n",
            " [-1.80977511  0.18086847]\n",
            " [-1.80977511 -1.4499128 ]\n",
            " [ 0.69786912  1.81164973]\n",
            " [-0.07371372  0.29947074]\n",
            " [-1.6168794   0.06226619]\n",
            " [-0.65240085  1.42619234]\n",
            " [-0.26660943 -0.26389006]\n",
            " [-0.36305728  1.33724064]\n",
            " [ 0.50497341  1.24828893]\n",
            " [-0.65240085  0.18086847]\n",
            " [-1.52043154 -0.44179347]\n",
            " [-1.03819227  0.41807302]\n",
            " [ 0.79431698  0.26982017]\n",
            " [ 1.95169124 -0.94585313]\n",
            " [ 0.79431698 -0.3231912 ]\n",
            " [ 0.21562985  0.2401696 ]\n",
            " [-1.71332725 -0.61969688]\n",
            " [-0.26660943  0.1512179 ]\n",
            " [-1.32753583 -1.27200939]\n",
            " [-0.26660943 -0.44179347]\n",
            " [ 0.11918199  0.09191676]\n",
            " [-0.94174441  0.44772358]\n",
            " [ 2.04813909  0.38842245]\n",
            " [-1.90622296  0.35877188]\n",
            " [ 2.04813909 -0.82725086]\n",
            " [ 2.14458695  1.12968666]\n",
            " [ 0.79431698 -1.24235882]\n",
            " [ 0.40852556 -0.47144404]\n",
            " [ 0.02273414 -0.26389006]\n",
            " [ 1.46945196  0.35877188]\n",
            " [-0.17016157 -0.59004631]\n",
            " [ 0.21562985 -0.26389006]\n",
            " [-0.45950514  2.34535997]\n",
            " [ 0.11918199  0.21051904]\n",
            " [ 0.21562985 -0.67899802]\n",
            " [ 0.98721269 -1.09410598]\n",
            " [-0.17016157  0.1512179 ]\n",
            " [-0.07371372  0.29947074]\n",
            " [ 0.40852556 -0.50109461]\n",
            " [-0.36305728 -1.33131052]\n",
            " [ 0.89076483 -0.79760029]\n",
            " [-0.94174441  0.41807302]\n",
            " [-0.07371372 -0.44179347]\n",
            " [-0.94174441 -0.44179347]\n",
            " [-1.80977511  0.44772358]\n",
            " [-0.84529656 -1.24235882]\n",
            " [-0.94174441 -0.3231912 ]\n",
            " [ 0.98721269  0.77387984]\n",
            " [-1.6168794  -0.05633608]\n",
            " [-1.03819227 -0.35284176]\n",
            " [ 0.02273414 -0.56039574]\n",
            " [-0.65240085 -0.35284176]\n",
            " [-1.13464012 -1.56851507]\n",
            " [ 1.95169124 -1.39061166]\n",
            " [-0.65240085 -1.62781621]\n",
            " [ 0.21562985 -0.38249233]\n",
            " [ 0.89076483  2.19710712]\n",
            " [ 1.1801084  -1.00515427]\n",
            " [-0.17016157 -0.53074518]\n",
            " [ 1.66234767  1.78199917]\n",
            " [ 1.08366054 -1.24235882]\n",
            " [ 0.02273414  1.2779395 ]\n",
            " [-0.45950514 -0.29354063]\n",
            " [ 1.66234767 -0.91620257]\n",
            " [ 0.3120777   0.50702472]\n",
            " [-1.03819227 -1.56851507]\n",
            " [ 1.56589982  1.12968666]\n",
            " [-1.52043154  0.32912131]\n",
            " [ 0.02273414 -0.14528779]\n",
            " [ 0.11918199 -0.82725086]\n",
            " [ 0.21562985  1.10003609]\n",
            " [ 0.40852556 -0.17493835]\n",
            " [-0.45950514 -0.02668551]\n",
            " [ 1.08366054  2.10815542]\n",
            " [-0.26660943 -0.14528779]\n",
            " [-0.7488487  -0.61969688]\n",
            " [ 1.1801084  -1.47956337]\n",
            " [-1.42398369 -1.47956337]\n",
            " [ 1.85524338 -0.29354063]\n",
            " [ 1.85524338  0.12156733]\n",
            " [ 0.40852556  0.1512179 ]\n",
            " [ 1.27655625 -1.39061166]\n",
            " [-0.45950514 -1.24235882]\n",
            " [-0.7488487   1.93025201]\n",
            " [-0.26660943  1.12968666]\n",
            " [ 0.02273414 -0.59004631]\n",
            " [ 0.21562985 -0.14528779]\n",
            " [-0.55595299  1.93025201]\n",
            " [-0.94174441  0.26982017]\n",
            " [-1.90622296  0.47737415]\n",
            " [-1.32753583  0.56632586]\n",
            " [ 0.21562985  0.1512179 ]\n",
            " [ 1.37300411 -1.4499128 ]\n",
            " [-0.07371372  0.68492813]\n",
            " [ 0.11918199  1.90060144]\n",
            " [-1.71332725 -1.00515427]\n",
            " [ 0.21562985 -0.38249233]\n",
            " [-1.80977511 -1.33131052]\n",
            " [ 0.79431698  0.53667529]\n",
            " [-0.17016157  1.42619234]\n",
            " [-1.03819227  0.56632586]\n",
            " [-1.23108798 -1.09410598]\n",
            " [ 1.37300411  2.01920371]\n",
            " [ 0.79431698 -1.12375655]\n",
            " [ 0.79431698  0.12156733]\n",
            " [-1.80977511 -1.30165996]\n",
            " [ 0.02273414  1.24828893]\n",
            " [ 0.89076483 -0.61969688]\n",
            " [ 2.14458695  0.38842245]\n",
            " [ 2.14458695 -0.82725086]\n",
            " [ 0.98721269 -1.09410598]\n",
            " [ 0.11918199  1.54479462]\n",
            " [-0.94174441  0.50702472]\n",
            " [-1.23108798  0.26982017]\n",
            " [ 0.40852556  0.59597643]\n",
            " [ 0.11918199  0.1512179 ]\n",
            " [ 0.21562985  0.03261563]\n",
            " [ 2.04813909  2.16745656]\n",
            " [-0.07371372 -0.38249233]\n",
            " [-0.26660943  0.80353041]\n",
            " [-1.42398369 -0.20458892]\n",
            " [ 1.08366054  0.12156733]\n",
            " [ 0.3120777   0.06226619]\n",
            " [ 0.11918199  0.03261563]\n",
            " [ 0.98721269 -1.03480484]\n",
            " [-0.55595299  1.48549348]\n",
            " [-1.13464012 -1.62781621]\n",
            " [ 1.27655625  2.25640826]\n",
            " [-1.42398369 -0.11563722]\n",
            " [-1.80977511 -1.50921394]\n",
            " [ 0.89076483 -1.18305768]\n",
            " [ 2.14458695 -0.70864859]\n",
            " [ 0.60142127 -0.91620257]\n",
            " [-1.23108798 -1.42026223]\n",
            " [-0.45950514 -0.85690143]\n",
            " [-0.84529656 -0.26389006]\n",
            " [ 1.46945196  2.16745656]\n",
            " [ 0.40852556  1.01108439]\n",
            " [ 0.02273414 -0.44179347]\n",
            " [-1.13464012 -1.18305768]\n",
            " [-0.7488487   0.56632586]\n",
            " [ 0.11918199  1.07038552]\n",
            " [-0.55595299  1.39654178]\n",
            " [ 0.11918199  1.90060144]\n",
            " [ 0.21562985  2.13780599]\n",
            " [ 1.46945196  1.01108439]\n",
            " [-1.71332725  0.12156733]\n",
            " [-0.26660943 -0.50109461]\n",
            " [ 0.11918199  0.77387984]\n",
            " [ 0.89076483 -1.33131052]\n",
            " [-0.26660943 -0.29354063]\n",
            " [ 2.14458695 -1.06445541]\n",
            " [ 0.40852556  0.29947074]\n",
            " [-0.17016157  1.63374632]\n",
            " [ 0.79431698 -0.85690143]\n",
            " [-0.94174441  1.57444519]\n",
            " [ 0.11918199 -0.26389006]\n",
            " [-1.23108798  0.50702472]\n",
            " [ 0.11918199 -0.82725086]\n",
            " [ 1.08366054 -1.00515427]\n",
            " [ 0.98721269  1.81164973]\n",
            " [-1.42398369 -0.64934745]\n",
            " [ 0.98721269 -1.21270825]\n",
            " [-1.32753583 -0.44179347]\n",
            " [ 0.3120777   0.06226619]\n",
            " [-0.26660943 -0.59004631]\n",
            " [-0.7488487   1.10003609]\n",
            " [ 1.56589982  1.01108439]\n",
            " [-1.03819227  0.59597643]\n",
            " [ 0.40852556  0.09191676]\n",
            " [-0.94174441 -0.3231912 ]\n",
            " [ 1.1801084  -0.76794972]\n",
            " [-1.90622296 -0.53074518]\n",
            " [ 1.08366054 -1.24235882]\n",
            " [ 0.3120777   0.26982017]\n",
            " [-0.7488487  -1.62781621]\n",
            " [-0.26660943 -1.33131052]\n",
            " [-0.26660943  0.53667529]\n",
            " [ 0.98721269  1.90060144]\n",
            " [-0.65240085 -0.11563722]\n",
            " [-0.45950514  1.2779395 ]\n",
            " [ 0.3120777  -0.53074518]\n",
            " [ 1.85524338  1.54479462]\n",
            " [ 1.08366054  0.47737415]\n",
            " [ 2.04813909  0.18086847]\n",
            " [-1.71332725  0.35877188]\n",
            " [-0.17016157 -0.20458892]\n",
            " [-0.65240085  0.56632586]\n",
            " [ 1.37300411  1.30759007]\n",
            " [ 1.08366054 -0.91620257]\n",
            " [ 1.85524338 -1.09410598]\n",
            " [-0.7488487   0.50702472]\n",
            " [-1.32753583 -1.12375655]\n",
            " [ 0.79431698  0.35877188]\n",
            " [-0.84529656  0.38842245]\n",
            " [-0.7488487   0.29947074]\n",
            " [-1.03819227  1.98955314]\n",
            " [-0.07371372  0.06226619]\n",
            " [ 1.37300411  2.37501053]\n",
            " [-0.07371372  0.1512179 ]\n",
            " [-0.07371372  1.98955314]\n",
            " [-0.7488487   0.26982017]\n",
            " [-1.13464012  0.32912131]\n",
            " [ 0.3120777  -0.29354063]\n",
            " [ 0.98721269 -1.18305768]\n",
            " [ 1.37300411  0.59597643]\n",
            " [-1.52043154 -1.5388645 ]\n",
            " [-0.94174441 -0.76794972]\n",
            " [-1.13464012  0.06226619]\n",
            " [ 0.40852556 -0.47144404]\n",
            " [-1.90622296 -0.76794972]\n",
            " [ 0.40852556  0.26982017]\n",
            " [-0.26660943  0.21051904]\n",
            " [-0.55595299  0.47737415]\n",
            " [-0.36305728 -0.79760029]\n",
            " [-0.26660943  0.03261563]\n",
            " [-0.07371372  0.21051904]\n",
            " [-0.26660943  0.1512179 ]\n",
            " [ 0.3120777  -0.56039574]\n",
            " [ 0.79431698  0.77387984]\n",
            " [ 0.98721269  2.01920371]\n",
            " [-0.17016157 -0.29354063]\n",
            " [-1.03819227 -0.47144404]\n",
            " [-0.26660943 -0.35284176]\n",
            " [ 0.11918199 -0.3231912 ]\n",
            " [-0.26660943 -0.76794972]\n",
            " [-0.07371372 -1.09410598]\n",
            " [-0.26660943  0.06226619]\n",
            " [ 0.50497341  1.7523486 ]\n",
            " [-0.36305728  1.24828893]\n",
            " [ 0.79431698  1.39654178]\n",
            " [ 0.98721269 -0.85690143]\n",
            " [-1.71332725 -1.39061166]\n",
            " [-0.84529656  0.29947074]\n",
            " [-0.84529656  2.3157094 ]] \n",
            " X_test\n",
            " [[-0.78516104  0.39146464]\n",
            " [-1.53293345 -1.53353579]\n",
            " [-0.03738862 -0.47047585]\n",
            " [-0.78516104  0.16161384]\n",
            " [ 1.55162776  0.01795709]\n",
            " [ 0.8973269  -1.41861039]\n",
            " [-1.34599035  0.36273329]\n",
            " [-0.87863259 -1.0738342 ]\n",
            " [ 0.24302603 -0.2693564 ]\n",
            " [-0.13086017  1.62691268]\n",
            " [-1.25251879 -1.33241634]\n",
            " [-1.4394619  -1.21749094]\n",
            " [-0.50474638  1.36833053]\n",
            " [ 0.71038379  0.27653924]\n",
            " [-0.22433172 -0.29808775]\n",
            " [-0.41127483 -0.75778935]\n",
            " [-1.71987655  0.01795709]\n",
            " [ 2.11245707 -0.7865207 ]\n",
            " [ 1.45815621  0.07541979]\n",
            " [-1.06557569 -0.75778935]\n",
            " [-0.03738862  0.24780789]\n",
            " [ 0.71038379 -0.70032665]\n",
            " [-0.69168948 -0.2118937 ]\n",
            " [-0.13086017 -1.04510285]\n",
            " [-1.15904724  0.30527059]\n",
            " [ 0.71038379 -1.0738342 ]\n",
            " [ 0.71038379 -1.36114769]\n",
            " [ 0.24302603 -0.35555045]\n",
            " [ 0.61691224  2.00042023]\n",
            " [-0.50474638  0.87989759]\n",
            " [-1.25251879 -0.41301315]\n",
            " [ 0.33649759 -0.4992072 ]\n",
            " [ 0.80385535 -1.33241634]\n",
            " [ 0.05608293 -0.29808775]\n",
            " [-0.50474638  2.31646507]\n",
            " [-0.22433172  0.62131544]\n",
            " [ 0.99079845  0.13288249]\n",
            " [-0.22433172 -1.33241634]\n",
            " [-0.78516104 -0.75778935]\n",
            " [ 0.8973269   1.08101703]\n",
            " [-0.22433172 -0.87271475]\n",
            " [ 0.42996914 -0.12569966]\n",
            " [-0.97210414  0.53512139]\n",
            " [ 0.42996914  0.30527059]\n",
            " [-1.81334811 -0.03950561]\n",
            " [ 0.8973269  -0.52793855]\n",
            " [-1.25251879  0.42019599]\n",
            " [ 0.8973269  -1.0163715 ]\n",
            " [ 0.99079845  1.42579323]\n",
            " [-1.06557569 -1.56226714]\n",
            " [-0.97210414  0.76497219]\n",
            " [ 0.42996914  2.28773372]\n",
            " [-0.31780328  0.07541979]\n",
            " [ 0.14955448  0.27653924]\n",
            " [-1.06557569  1.39706188]\n",
            " [-1.4394619  -0.18316235]\n",
            " [ 0.33649759 -1.1312969 ]\n",
            " [ 0.42996914  1.10974838]\n",
            " [ 0.52344069  1.82803213]\n",
            " [-0.59821793  0.13288249]\n",
            " [-1.06557569  0.42019599]\n",
            " [ 2.01898552  1.74183808]\n",
            " [ 1.92551397  0.73624084]\n",
            " [ 0.33649759  0.04668844]\n",
            " [-1.15904724  0.59258409]\n",
            " [-0.22433172  2.23027102]\n",
            " [ 0.71038379 -1.24622229]\n",
            " [-0.13086017 -0.4417445 ]\n",
            " [-0.59821793 -0.03950561]\n",
            " [ 1.83204242 -1.24622229]\n",
            " [-0.03738862 -0.2118937 ]\n",
            " [ 1.92551397  0.90862894]\n",
            " [-0.41127483 -0.52793855]\n",
            " [-0.78516104 -0.75778935]\n",
            " [ 1.73857086  1.82803213]\n",
            " [-0.22433172  0.07541979]\n",
            " [ 2.11245707  0.93736029]\n",
            " [-1.25251879 -0.3268191 ]\n",
            " [ 1.64509931  1.59818133]\n",
            " [-1.626405    0.36273329]\n",
            " [ 0.8973269  -0.64286395]\n",
            " [-0.13086017  0.85116624]\n",
            " [-0.97210414 -0.35555045]\n",
            " [ 0.99079845  0.59258409]\n",
            " [-0.87863259  0.56385274]\n",
            " [ 0.42996914  0.01795709]\n",
            " [ 0.99079845  2.05788292]\n",
            " [ 0.33649759 -0.29808775]\n",
            " [ 1.73857086 -0.2693564 ]\n",
            " [-0.13086017  2.14407697]\n",
            " [ 1.73857086  0.99482298]\n",
            " [-1.25251879 -1.44734174]\n",
            " [ 2.01898552  0.53512139]\n",
            " [ 1.27121311  1.85676348]\n",
            " [-1.06557569  0.30527059]\n",
            " [-0.31780328 -0.75778935]\n",
            " [-1.626405    0.47765869]\n",
            " [-0.50474638 -1.47607309]\n",
            " [ 0.33649759 -0.70032665]\n",
            " [ 0.05608293 -0.5566699 ]\n",
            " [ 0.05608293  0.04668844]\n",
            " [-0.03738862 -0.4992072 ]\n",
            " [-0.59821793 -1.47607309]\n",
            " [ 0.05608293  0.30527059]\n",
            " [ 0.33649759  0.07541979]\n",
            " [-0.41127483 -1.10256555]\n",
            " [-0.69168948 -1.50480444]\n",
            " [-0.22433172 -0.64286395]\n",
            " [-1.06557569  0.47765869]\n",
            " [-0.03738862  2.14407697]\n",
            " [ 0.05608293  0.04668844]\n",
            " [-1.06557569 -1.53353579]\n",
            " [ 1.08427     0.53512139]\n",
            " [-0.22433172 -1.21749094]\n",
            " [ 1.36468466 -0.9014461 ]\n",
            " [-1.34599035 -1.1887596 ]\n",
            " [-0.87863259 -0.93017745]\n",
            " [ 1.92551397 -0.64286395]\n",
            " [ 0.8973269  -0.5566699 ]\n",
            " [-1.06557569  0.30527059]]\n",
            "\n",
            " Y_train\n",
            " [0 0 0 1 0 0 0 1 0 0 1 0 0 0 0 1 0 0 1 0 0 0 0 0 0 0 1 0 1 1 0 0 0 1 1 1 0\n",
            " 1 0 0 0 0 0 1 0 0 0 1 0 0 1 0 0 1 0 0 0 1 1 0 0 0 0 0 0 0 0 0 0 0 1 1 0 0\n",
            " 1 0 0 1 0 0 1 0 0 0 0 0 0 0 0 0 0 0 1 0 0 0 0 0 1 0 0 1 1 0 1 1 1 0 1 1 0\n",
            " 1 0 0 0 1 0 0 1 0 0 1 0 1 1 0 1 0 1 0 0 0 1 0 0 0 0 1 1 1 0 0 0 1 1 0 0 1\n",
            " 1 0 0 0 1 1 1 1 1 0 0 1 1 1 1 0 1 0 0 0 0 1 1 0 1 0 0 1 1 0 0 0 0 1 1 0 0\n",
            " 0 1 0 1 1 1 0 0 1 1 0 1 1 1 1 1 0 0 0 1 1 0 1 0 0 0 1 1 0 1 0 0 0 1 0 0 0\n",
            " 0 1 0 0 0 1 1 1 0 0 0 0 1 1 0 0 0 0 0 1 0 1 0 1 0 0 0 1 1 0 0 0 0 0 0 0 0\n",
            " 0 0 0 0 0 0 1 0 0 0 0 0 0 0 1 1 1 1 0 0 1] \n",
            " Y_test\n",
            " [0 0 0 0 1 1 0 0 0 1 0 0 1 0 0 0 0 1 1 0 1 1 0 0 0 1 1 0 1 1 0 0 1 0 1 1 1\n",
            " 0 0 1 0 0 0 0 0 1 0 1 1 0 1 1 0 0 0 0 0 1 0 0 0 1 1 0 0 1 1 0 0 1 0 1 0 0\n",
            " 1 0 1 0 1 0 0 1 0 1 0 0 0 0 1 1 1 0 1 0 0 0 0 0 0 0 0 0 0 0 0 0 0 0 0 1 0\n",
            " 0 1 0 1 0 0 1 1 0]\n"
          ]
        }
      ]
    },
    {
      "cell_type": "code",
      "source": [
        "print ('Train set:', x_train.shape,  y_train.shape)\n",
        "print ('Test set:', x_test.shape,  y_test.shape)"
      ],
      "metadata": {
        "colab": {
          "base_uri": "https://localhost:8080/"
        },
        "id": "gs1WNV6m8j_9",
        "outputId": "b7b73547-bba8-4ede-ab11-c05639d6cafa"
      },
      "execution_count": null,
      "outputs": [
        {
          "output_type": "stream",
          "name": "stdout",
          "text": [
            "Train set: (280, 2) (280,)\n",
            "Test set: (120, 2) (120,)\n"
          ]
        }
      ]
    },
    {
      "cell_type": "markdown",
      "metadata": {
        "id": "OUGszSAKinhN"
      },
      "source": [
        "**Fitting SVM to the Training set**"
      ]
    },
    {
      "cell_type": "code",
      "metadata": {
        "id": "FLIzMPkOh1Ob",
        "colab": {
          "base_uri": "https://localhost:8080/"
        },
        "outputId": "ea864103-7f6b-41af-b3fb-9438b683e60d"
      },
      "source": [
        "from sklearn import svm\n",
        "clf = svm.SVC(kernel='linear')\n",
        "clf.fit(x_train, y_train)\n",
        "\n",
        "clf_ploy = svm.SVC(kernel='poly',degree=1)\n",
        "clf_ploy.fit(x_train, y_train)\n",
        "\n",
        "clf_gaussian=svm.SVC(kernel='rbf')\n",
        "clf_gaussian.fit(x_train, y_train)\n",
        "\n",
        "clf_sig=svm.SVC(kernel='sigmoid')\n",
        "clf_sig.fit(x_train, y_train)"
      ],
      "execution_count": null,
      "outputs": [
        {
          "output_type": "execute_result",
          "data": {
            "text/plain": [
              "SVC(kernel='sigmoid')"
            ]
          },
          "metadata": {},
          "execution_count": 8
        }
      ]
    },
    {
      "cell_type": "markdown",
      "metadata": {
        "id": "aW3yFyofiqtE"
      },
      "source": [
        "**Predicting the Test set results**"
      ]
    },
    {
      "cell_type": "code",
      "metadata": {
        "id": "aG_OGjavh1Q4"
      },
      "source": [
        "y_pred = clf.predict(x_test)\n",
        "y_pred_ploy = clf_ploy.predict(x_test)\n",
        "y_pred_gaus = clf_gaussian.predict(x_test)\n",
        "y_pred_sig = clf_sig.predict(x_test)"
      ],
      "execution_count": null,
      "outputs": []
    },
    {
      "cell_type": "markdown",
      "metadata": {
        "id": "4Kfn-chPi4Ts"
      },
      "source": [
        "**Making the Confusion Matrix**"
      ]
    },
    {
      "cell_type": "code",
      "metadata": {
        "id": "G7VPRN2Ah1Tm",
        "colab": {
          "base_uri": "https://localhost:8080/",
          "height": 858
        },
        "outputId": "8985746c-7667-4c63-8401-947e081ca3c3"
      },
      "source": [
        "from sklearn.metrics import classification_report, confusion_matrix\n",
        "print(confusion_matrix(y_test,y_pred))\n",
        "print(classification_report(y_test,y_pred))\n",
        "print(confusion_matrix(y_test,y_pred_ploy))\n",
        "print(classification_report(y_test,y_pred_ploy))\n",
        "print(confusion_matrix(y_test,y_pred_gaus))\n",
        "print(classification_report(y_test,y_pred_gaus))\n",
        "print(confusion_matrix(y_test,y_pred_sig))\n",
        "print(classification_report(y_test,y_pred_sig))\n",
        "\"\"\"from sklearn.metrics import classification_report, confusion_matrix\n",
        "import itertools\n",
        "\n",
        "clf.score(x_test, y_test)\n",
        "\n",
        "y_pred = clf.predict(x_test)\n",
        "confusion_matrix(y_test,y_pred)\n",
        "pd.crosstab(y_test, y_pred, rownames = ['Actual'], colnames =['Predicted'], margins = True)\n",
        "\"\"\""
      ],
      "execution_count": null,
      "outputs": [
        {
          "output_type": "stream",
          "name": "stdout",
          "text": [
            "[[71  6]\n",
            " [13 30]]\n",
            "              precision    recall  f1-score   support\n",
            "\n",
            "           0       0.85      0.92      0.88        77\n",
            "           1       0.83      0.70      0.76        43\n",
            "\n",
            "    accuracy                           0.84       120\n",
            "   macro avg       0.84      0.81      0.82       120\n",
            "weighted avg       0.84      0.84      0.84       120\n",
            "\n",
            "[[72  5]\n",
            " [13 30]]\n",
            "              precision    recall  f1-score   support\n",
            "\n",
            "           0       0.85      0.94      0.89        77\n",
            "           1       0.86      0.70      0.77        43\n",
            "\n",
            "    accuracy                           0.85       120\n",
            "   macro avg       0.85      0.82      0.83       120\n",
            "weighted avg       0.85      0.85      0.85       120\n",
            "\n",
            "[[72  5]\n",
            " [ 5 38]]\n",
            "              precision    recall  f1-score   support\n",
            "\n",
            "           0       0.94      0.94      0.94        77\n",
            "           1       0.88      0.88      0.88        43\n",
            "\n",
            "    accuracy                           0.92       120\n",
            "   macro avg       0.91      0.91      0.91       120\n",
            "weighted avg       0.92      0.92      0.92       120\n",
            "\n",
            "[[58 19]\n",
            " [23 20]]\n",
            "              precision    recall  f1-score   support\n",
            "\n",
            "           0       0.72      0.75      0.73        77\n",
            "           1       0.51      0.47      0.49        43\n",
            "\n",
            "    accuracy                           0.65       120\n",
            "   macro avg       0.61      0.61      0.61       120\n",
            "weighted avg       0.64      0.65      0.65       120\n",
            "\n"
          ]
        },
        {
          "output_type": "execute_result",
          "data": {
            "text/plain": [
              "\"from sklearn.metrics import classification_report, confusion_matrix\\nimport itertools\\n\\nclf.score(x_test, y_test)\\n\\ny_pred = clf.predict(x_test)\\nconfusion_matrix(y_test,y_pred)\\npd.crosstab(y_test, y_pred, rownames = ['Actual'], colnames =['Predicted'], margins = True)\\n\""
            ],
            "application/vnd.google.colaboratory.intrinsic+json": {
              "type": "string"
            }
          },
          "metadata": {},
          "execution_count": 10
        }
      ]
    },
    {
      "cell_type": "code",
      "source": [
        "\"\"\"def plot_confusion_matrix(cm, classes,\n",
        "                         normalize=False,\n",
        "                         title='Confusion matrix',\n",
        "                         cmap=plt.cm.Blues):\n",
        "   \n",
        "   This function prints and plots the confusion matrix.\n",
        "   Normalization can be applied by setting `normalize=True`.\n",
        "   \n",
        "   if normalize:\n",
        "       cm = cm.astype('float') / cm.sum(axis=1)[:, np.newaxis]\n",
        "       print(\"Normalized confusion matrix\")\n",
        "   else:\n",
        "       print('Confusion matrix, without normalization')\n",
        "\n",
        "\n",
        "   print(cm)\n",
        "\n",
        "\n",
        "   plt.imshow(cm, interpolation='nearest', cmap=cmap)\n",
        "   plt.title(title)\n",
        "   plt.colorbar()\n",
        "   tick_marks = np.arange(len(classes))\n",
        "   plt.xticks(tick_marks, classes, rotation=45)\n",
        "   plt.yticks(tick_marks, classes)\n",
        "\n",
        "\n",
        "   fmt = '.2f' if normalize else 'd'\n",
        "   thresh = cm.max() / 2.\n",
        "   for i, j in itertools.product(range(cm.shape[0]), range(cm.shape[1])):\n",
        "       plt.text(j, i, format(cm[i, j], fmt),\n",
        "                horizontalalignment=\"center\",\n",
        "                color=\"white\" if cm[i, j] > thresh else \"black\")\n",
        "\n",
        "\n",
        "   plt.tight_layout()\n",
        "   plt.ylabel('True label')\n",
        "   plt.xlabel('Predicted label')\n",
        "\n",
        "yhat = clf.predict(x_test)\n",
        "yhat[:5]\n",
        "\"\"\""
      ],
      "metadata": {
        "colab": {
          "base_uri": "https://localhost:8080/",
          "height": 145
        },
        "id": "fL-OJopl87mv",
        "outputId": "cde8c2a1-00fd-4529-8934-1bc01f788b16"
      },
      "execution_count": null,
      "outputs": [
        {
          "output_type": "execute_result",
          "data": {
            "text/plain": [
              "'def plot_confusion_matrix(cm, classes,\\n                         normalize=False,\\n                         title=\\'Confusion matrix\\',\\n                         cmap=plt.cm.Blues):\\n   \\n   This function prints and plots the confusion matrix.\\n   Normalization can be applied by setting `normalize=True`.\\n   \\n   if normalize:\\n       cm = cm.astype(\\'float\\') / cm.sum(axis=1)[:, np.newaxis]\\n       print(\"Normalized confusion matrix\")\\n   else:\\n       print(\\'Confusion matrix, without normalization\\')\\n\\n\\n   print(cm)\\n\\n\\n   plt.imshow(cm, interpolation=\\'nearest\\', cmap=cmap)\\n   plt.title(title)\\n   plt.colorbar()\\n   tick_marks = np.arange(len(classes))\\n   plt.xticks(tick_marks, classes, rotation=45)\\n   plt.yticks(tick_marks, classes)\\n\\n\\n   fmt = \\'.2f\\' if normalize else \\'d\\'\\n   thresh = cm.max() / 2.\\n   for i, j in itertools.product(range(cm.shape[0]), range(cm.shape[1])):\\n       plt.text(j, i, format(cm[i, j], fmt),\\n                horizontalalignment=\"center\",\\n                color=\"white\" if cm[i, j] > thresh else \"black\")\\n\\n\\n   plt.tight_layout()\\n   plt.ylabel(\\'True label\\')\\n   plt.xlabel(\\'Predicted label\\')\\n\\nyhat = clf.predict(x_test)\\nyhat[:5]\\n'"
            ],
            "application/vnd.google.colaboratory.intrinsic+json": {
              "type": "string"
            }
          },
          "metadata": {},
          "execution_count": 11
        }
      ]
    },
    {
      "cell_type": "code",
      "source": [
        "\"\"\"cnf_matrix = confusion_matrix(y_test, yhat, labels=[1,2,4])\n",
        "np.set_printoptions(precision=2)\n",
        "\n",
        "print (classification_report(y_test, yhat))\"\"\""
      ],
      "metadata": {
        "colab": {
          "base_uri": "https://localhost:8080/",
          "height": 36
        },
        "id": "TnENCZ0P9z8k",
        "outputId": "f49f8e62-cec1-411c-e457-cd2acc704e8a"
      },
      "execution_count": null,
      "outputs": [
        {
          "output_type": "execute_result",
          "data": {
            "text/plain": [
              "'cnf_matrix = confusion_matrix(y_test, yhat, labels=[1,2,4])\\nnp.set_printoptions(precision=2)\\n\\nprint (classification_report(y_test, yhat))'"
            ],
            "application/vnd.google.colaboratory.intrinsic+json": {
              "type": "string"
            }
          },
          "metadata": {},
          "execution_count": 12
        }
      ]
    },
    {
      "cell_type": "code",
      "source": [
        "score = clf.score(x_test, y_test)\n",
        "print(\"Linear - \",score*100)\n",
        "score_ploy = clf_ploy.score(x_test, y_test)\n",
        "print(\"Polynomial SVM Kernel - \",score_ploy*100)\n",
        "score_gaus = clf_gaussian.score(x_test, y_test)\n",
        "print(\"Gaussian Kernel - \",score_gaus*100)\n",
        "score_sig = clf_sig.score(x_test, y_test)\n",
        "print(\"Sigmoid Kernel - \",score_sig*100)"
      ],
      "metadata": {
        "colab": {
          "base_uri": "https://localhost:8080/"
        },
        "id": "5KDQb9efIaEP",
        "outputId": "631302ca-1a10-474d-d2d0-ed5334bcb2bd"
      },
      "execution_count": null,
      "outputs": [
        {
          "output_type": "stream",
          "name": "stdout",
          "text": [
            "Linear -  84.16666666666667\n",
            "Polynomial SVM Kernel -  85.0\n",
            "Gaussian Kernel -  91.66666666666666\n",
            "Sigmoid Kernel -  65.0\n"
          ]
        }
      ]
    },
    {
      "cell_type": "markdown",
      "metadata": {
        "id": "7Fo3I-pKi7JQ"
      },
      "source": [
        "**Visualising the Training set results**"
      ]
    },
    {
      "cell_type": "code",
      "source": [
        "support_vectors = clf_gaussian.support_vectors_"
      ],
      "metadata": {
        "id": "Qa__RVaERwJ1"
      },
      "execution_count": null,
      "outputs": []
    },
    {
      "cell_type": "code",
      "metadata": {
        "id": "hI3xXh_oh1XK",
        "colab": {
          "base_uri": "https://localhost:8080/",
          "height": 295
        },
        "outputId": "9f849ccf-0492-4655-f301-51bb87b05eed"
      },
      "source": [
        "plt.scatter(x_train[:,0], x_train[:,1], color='red')\n",
        "plt.title('Linearly separable data')\n",
        "plt.xlabel('X1')\n",
        "plt.ylabel('X2')\n",
        "plt.show()"
      ],
      "execution_count": null,
      "outputs": [
        {
          "output_type": "display_data",
          "data": {
            "text/plain": [
              "<Figure size 432x288 with 1 Axes>"
            ],
            "image/png": "[encoded data removed]"
          },
          "metadata": {
            "needs_background": "light"
          }
        }
      ]
    },
    {
      "cell_type": "code",
      "metadata": {
        "id": "YzMdeL7FjHnn",
        "colab": {
          "base_uri": "https://localhost:8080/",
          "height": 295
        },
        "outputId": "4234e5c6-db24-40ed-954e-310d4927e7dd"
      },
      "source": [
        "plt.scatter(x_train[:,0], x_train[:,1])\n",
        "plt.scatter(support_vectors[:,0], support_vectors[:,1], color='red')\n",
        "plt.title('Linearly separable data with support vectors')\n",
        "plt.xlabel('X1')\n",
        "plt.ylabel('X2')\n",
        "plt.show()"
      ],
      "execution_count": null,
      "outputs": [
        {
          "output_type": "display_data",
          "data": {
            "text/plain": [
              "<Figure size 432x288 with 1 Axes>"
            ],
            "image/png": "[encoded data removed]"
          },
          "metadata": {
            "needs_background": "light"
          }
        }
      ]
    },
    {
      "cell_type": "markdown",
      "metadata": {
        "id": "FudAc9-6jSS9"
      },
      "source": [
        "**Visualising the Test set results**"
      ]
    },
    {
      "cell_type": "code",
      "metadata": {
        "id": "Q3aQCPffjHqj",
        "colab": {
          "base_uri": "https://localhost:8080/",
          "height": 244
        },
        "outputId": "42ff1610-3fd8-44c0-e801-3a70d22516fb"
      },
      "source": [
        "plt.scatter(y_test[:,0], y_test[:,1])\n",
        "plt.scatter(support_vectors[:,0], support_vectors[:,1], color='red')\n",
        "plt.title('Linearly separable data with support vectors')\n",
        "plt.xlabel('X1')\n",
        "plt.ylabel('X2')\n",
        "plt.show()"
      ],
      "execution_count": null,
      "outputs": [
        {
          "output_type": "error",
          "ename": "IndexError",
          "evalue": "ignored",
          "traceback": [
            "\u001b[0;31m---------------------------------------------------------------------------\u001b[0m",
            "\u001b[0;31mIndexError\u001b[0m                                Traceback (most recent call last)",
            "\u001b[0;32m<ipython-input-25-89886f12c469>\u001b[0m in \u001b[0;36m<module>\u001b[0;34m\u001b[0m\n\u001b[0;32m----> 1\u001b[0;31m \u001b[0mplt\u001b[0m\u001b[0;34m.\u001b[0m\u001b[0mscatter\u001b[0m\u001b[0;34m(\u001b[0m\u001b[0my_test\u001b[0m\u001b[0;34m[\u001b[0m\u001b[0;34m:\u001b[0m\u001b[0;34m,\u001b[0m\u001b[0;36m0\u001b[0m\u001b[0;34m]\u001b[0m\u001b[0;34m,\u001b[0m \u001b[0my_test\u001b[0m\u001b[0;34m[\u001b[0m\u001b[0;34m:\u001b[0m\u001b[0;34m,\u001b[0m\u001b[0;36m1\u001b[0m\u001b[0;34m]\u001b[0m\u001b[0;34m)\u001b[0m\u001b[0;34m\u001b[0m\u001b[0;34m\u001b[0m\u001b[0m\n\u001b[0m\u001b[1;32m      2\u001b[0m \u001b[0mplt\u001b[0m\u001b[0;34m.\u001b[0m\u001b[0mscatter\u001b[0m\u001b[0;34m(\u001b[0m\u001b[0msupport_vectors\u001b[0m\u001b[0;34m[\u001b[0m\u001b[0;34m:\u001b[0m\u001b[0;34m,\u001b[0m\u001b[0;36m0\u001b[0m\u001b[0;34m]\u001b[0m\u001b[0;34m,\u001b[0m \u001b[0msupport_vectors\u001b[0m\u001b[0;34m[\u001b[0m\u001b[0;34m:\u001b[0m\u001b[0;34m,\u001b[0m\u001b[0;36m1\u001b[0m\u001b[0;34m]\u001b[0m\u001b[0;34m,\u001b[0m \u001b[0mcolor\u001b[0m\u001b[0;34m=\u001b[0m\u001b[0;34m'red'\u001b[0m\u001b[0;34m)\u001b[0m\u001b[0;34m\u001b[0m\u001b[0;34m\u001b[0m\u001b[0m\n\u001b[1;32m      3\u001b[0m \u001b[0mplt\u001b[0m\u001b[0;34m.\u001b[0m\u001b[0mtitle\u001b[0m\u001b[0;34m(\u001b[0m\u001b[0;34m'Linearly separable data with support vectors'\u001b[0m\u001b[0;34m)\u001b[0m\u001b[0;34m\u001b[0m\u001b[0;34m\u001b[0m\u001b[0m\n\u001b[1;32m      4\u001b[0m \u001b[0mplt\u001b[0m\u001b[0;34m.\u001b[0m\u001b[0mxlabel\u001b[0m\u001b[0;34m(\u001b[0m\u001b[0;34m'X1'\u001b[0m\u001b[0;34m)\u001b[0m\u001b[0;34m\u001b[0m\u001b[0;34m\u001b[0m\u001b[0m\n\u001b[1;32m      5\u001b[0m \u001b[0mplt\u001b[0m\u001b[0;34m.\u001b[0m\u001b[0mylabel\u001b[0m\u001b[0;34m(\u001b[0m\u001b[0;34m'X2'\u001b[0m\u001b[0;34m)\u001b[0m\u001b[0;34m\u001b[0m\u001b[0;34m\u001b[0m\u001b[0m\n",
            "\u001b[0;31mIndexError\u001b[0m: too many indices for array: array is 1-dimensional, but 2 were indexed"
          ]
        }
      ]
    },
    {
      "cell_type": "code",
      "metadata": {
        "id": "da0qhcjeh1a0"
      },
      "source": [],
      "execution_count": null,
      "outputs": []
    }
  ]
}